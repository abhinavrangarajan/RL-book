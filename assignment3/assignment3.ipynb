{
 "cells": [
  {
   "cell_type": "markdown",
   "metadata": {},
   "source": [
    "# Problem 1"
   ]
  },
  {
   "cell_type": "markdown",
   "metadata": {},
   "source": [
    "Adapting the four Bellman Equations from page (100) of Rao's book to deterministic policy $\\pi_{D}$:\n",
    "\n",
    "1. $V^{\\pi_{D}}(s) = max_{a \\in A} Q^{\\pi_{D}}(s, a),\\ \\forall s \\in N$\n",
    "2. $Q^{\\pi_{D}}(s, a) = R(s, a) + \\gamma * \\sum_{s' \\in N} P(s, a, s')V^{\\pi_{D}}(s'),\\ \\forall s \\in N,\\ \\forall a \\in A$ \n",
    "3. $V^{\\pi_{D}}(s) = R(s, \\pi_{D}(s)) + \\gamma * \\sum_{s' \\in N} P(s, \\pi_{D}(s), s')V^{\\pi_{D}}(s') ,\\ \\forall s \\in N$ \n",
    "4. $Q^{\\pi_{D}}(s, a) = R(s, a) + \\gamma * \\sum_{s' \\in N} P(s, a, s') * Q^{\\pi_{D}}(s', \\pi_{D}(s')),\\ \\forall s \\in N,\\ \\forall a \\in A$ "
   ]
  },
  {
   "cell_type": "markdown",
   "metadata": {},
   "source": [
    "# Problem 2\n",
    "\n",
    "## Computing V*\n",
    "$\\textbf{Quick Answer: } \\frac{9}{4}$  \n",
    "\n",
    "$$\n",
    "V^{\\pi_{D}}(s) = R(s, \\pi_{D}(s)) + \\gamma * \\sum_{s' \\in N} P(s, \\pi_{D}(s), s')V^{\\pi_{D}}(s') ,\\ \\forall s \\in N\n",
    "$$ \n",
    "\n",
    "## Optimal Deterministic Policy\n",
    "Based on the results from part (1), the optimal policy $\\forall s \\in S$ is $a = \\frac{1}{4}$."
   ]
  },
  {
   "cell_type": "code",
   "execution_count": null,
   "metadata": {},
   "outputs": [],
   "source": []
  },
  {
   "cell_type": "markdown",
   "metadata": {},
   "source": [
    "# Problem 3\n",
    "\n",
    "State space $S = \\{0, 1, \\dots, N-1, N\\}$, Terminal states $T \\subset S = \\{0, N\\}$\n",
    "\n"
   ]
  },
  {
   "cell_type": "code",
   "execution_count": null,
   "metadata": {},
   "outputs": [],
   "source": []
  },
  {
   "cell_type": "markdown",
   "metadata": {},
   "source": [
    "## Problem 4\n"
   ]
  },
  {
   "cell_type": "markdown",
   "metadata": {},
   "source": [
    "$\\textbf{Quick Answer:}\\ a^{*} = \\frac{-s}{\\sigma^{2}}$\n",
    "\n",
    "### Proof\n",
    "\n",
    "Because $\\gamma = 0$, we have:\n",
    "$$\n",
    "  V*(s) = min_{a \\in A} \\{ R(s, a) \\} \\\\\n",
    "        = min_{a \\in A} \\{ E[ e^{as'} ] \\} \\\\\n",
    "        = min_{a \\in A}\\ \\{\\ \\frac{1}{\\sigma * \\sqrt{2\\pi}} \\int_{s'} e^{as'} * e^{ \\frac{-(s'-s)^{2}}{2*\\sigma^{2}}}\\ \\} \\\\\n",
    "        \\propto min_{a \\in A}\\ \\{\\ \\int_{s'} e^{as'} * e^{ \\frac{-(s'-s)^{2}}{2*\\sigma^{2}}}\\ \\} \\\\\n",
    "        \\propto min_{a \\in A}\\ \\{\\ e^{s*a\\ +\\ \\sigma^{2}*a^{2}/2} * \\int_{s'} e^{ \\frac{-(s'-(s + a*\\sigma^{2}))^{2}}{2*\\sigma^{2}}}\\ \\} \\\\\n",
    "        \\propto min_{a \\in A}\\ \\{\\ e^{s*a\\ +\\ \\sigma^{2}*a^{2}/2}\\ \\} \n",
    "$$\n",
    "\n",
    "For each state $s$, we want to find:\n",
    "$$\n",
    "    \\pi(s) = argmin_{a \\in A}\\ \\{\\ e^{s*a\\ +\\ \\sigma^{2}*a^{2}/2}\\ \\} \n",
    "$$\n",
    "  \n",
    "The optimal action mapping $s \\rightarrow a$ that is the solution of the above, is also the solution to the log of the above, or:\n",
    "$$\n",
    "    \\pi(s) = argmin_{a \\in A}\\ \\{\\ s*a\\ +\\ \\sigma^{2}*a^{2}/2 \\} \n",
    "$$\n",
    "  \n",
    "Taking the partial derivative with respect $a$ and setting to zero:  \n",
    "$$\n",
    "  s + \\sigma^{2}*a = 0\\ \\rightarrow\\ a = \\frac{-s}{\\sigma^{2}}\n",
    "$$  \n",
    "  \n",
    "Plugging the optimal $a*(s)$ into the expression for $V*$ above:\n",
    "\n",
    "$$\n",
    "    V*(s) = \\frac{1}{\\sigma * \\sqrt{2\\pi}} \\int_{s'} e^{\\frac{-s}{\\sigma^{2}}s'} * e^{ \\frac{-(s'-s)^{2}}{2*\\sigma^{2}}} \\\\\n",
    "          = \n",
    "$$"
   ]
  },
  {
   "cell_type": "code",
   "execution_count": null,
   "metadata": {},
   "outputs": [],
   "source": []
  }
 ],
 "metadata": {
  "kernelspec": {
   "display_name": "Python 3",
   "language": "python",
   "name": "python3"
  },
  "language_info": {
   "codemirror_mode": {
    "name": "ipython",
    "version": 3
   },
   "file_extension": ".py",
   "mimetype": "text/x-python",
   "name": "python",
   "nbconvert_exporter": "python",
   "pygments_lexer": "ipython3",
   "version": "3.8.2"
  }
 },
 "nbformat": 4,
 "nbformat_minor": 4
}
