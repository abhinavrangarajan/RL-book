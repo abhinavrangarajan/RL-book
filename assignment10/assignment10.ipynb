{
 "cells": [
  {
   "cell_type": "markdown",
   "metadata": {},
   "source": [
    "# Problem 1"
   ]
  },
  {
   "cell_type": "markdown",
   "metadata": {},
   "source": [
    "Since market making does not occur until time $T$, we define the function:  \n",
    "\n",
    "$\n",
    "\\begin{aligned}\n",
    "g(t, S_{t}, W, I) = -e^{-\\gamma (W + I*S_{t})}\n",
    "\\end{aligned}\n",
    "$\n",
    "\n",
    "Where we have:  \n",
    "$\n",
    "\\begin{aligned}\n",
    "V(t, S_{t}, W, I) = E[\\ g(T, S_{T}, W, I)\\ |\\ (t, S_{t})\\ ]\n",
    "\\end{aligned}\n",
    "$\n",
    "\n",
    "And we have:  \n",
    "$\n",
    "\\begin{aligned}\n",
    "dg = \\gamma I e^{-\\gamma (W + I*S_{t})} dS_{t} - \\frac{1}{2}\\gamma^{2} I^{2} \\sigma^{2} e^{-\\gamma (W + I*S_{t})} dt\n",
    "\\end{aligned}\n",
    "$\n",
    "\n",
    "Applying an expectation removes the stochastic part.  We have:  \n",
    "$\n",
    "\\begin{aligned}\n",
    "dV = - \\frac{1}{2}\\gamma^{2} I^{2} \\sigma^{2} e^{-\\gamma (W + I*S_{t})} dt \\\\\n",
    "dV = - \\frac{1}{2}\\gamma^{2} I^{2} \\sigma^{2} V dt \\\\\n",
    "\\text{so we have }\\ V = e^{- \\frac{1}{2}\\gamma^{2} I^{2} \\sigma^{2} t}\n",
    "\\end{aligned}\n",
    "$\n",
    "\n",
    "So we have:  \n",
    "$\n",
    "\\begin{aligned}\n",
    "V(t, S_{t}, W, I) = e^{- \\frac{1}{2}\\gamma^{2} I^{2} \\sigma^{2} (T-t)}\n",
    "\\end{aligned}\n",
    "$"
   ]
  },
  {
   "cell_type": "code",
   "execution_count": null,
   "metadata": {},
   "outputs": [],
   "source": []
  }
 ],
 "metadata": {
  "kernelspec": {
   "display_name": "Python 3",
   "language": "python",
   "name": "python3"
  },
  "language_info": {
   "codemirror_mode": {
    "name": "ipython",
    "version": 3
   },
   "file_extension": ".py",
   "mimetype": "text/x-python",
   "name": "python",
   "nbconvert_exporter": "python",
   "pygments_lexer": "ipython3",
   "version": "3.7.6"
  }
 },
 "nbformat": 4,
 "nbformat_minor": 5
}
