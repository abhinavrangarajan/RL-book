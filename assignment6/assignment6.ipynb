{
 "cells": [
  {
   "cell_type": "markdown",
   "id": "accredited-expression",
   "metadata": {},
   "source": [
    "## Problem 1\n",
    "\n",
    "- $E[U(X)] = E[X] - \\frac{\\alpha}{2}E[X^{2}] = \\mu - \\frac{\\alpha}{2}(\\sigma^{2} + \\mu^{2})$  \n",
    "- $X_{CE} = U^{-1}(\\mu - \\frac{\\alpha}{2}(\\sigma^{2} + \\mu^{2}))$  \n",
    "- $\\pi_{A} = \\mu - U^{-1}(\\mu - \\frac{\\alpha}{2}(\\sigma^{2} + \\mu^{2}))$   "
   ]
  },
  {
   "cell_type": "code",
   "execution_count": 14,
   "id": "hired-lyric",
   "metadata": {},
   "outputs": [],
   "source": [
    "import numpy as np\n",
    "import seaborn as sns\n"
   ]
  },
  {
   "cell_type": "code",
   "execution_count": 23,
   "id": "victorian-humanitarian",
   "metadata": {},
   "outputs": [],
   "source": [
    "def find_x(y, alpha):\n",
    "    utility_func = lambda x: (x - (alpha / 2)*(x**2))\n",
    "    for x_ in np.arange(0., 1.0, 0.01):\n",
    "        if np.isclose( utility_func(x_), y, atol=0.1 ):\n",
    "            return x_\n",
    "    return x_\n",
    "\n",
    "def allocation_value(*, alloc, alpha, r, mu, sigma):\n",
    "    EUX = alloc*mu - (alpha / 2)*(alloc**2)*((sigma**2) + (mu**2))\n",
    "    return (1-alloc)*r + find_x(y=EUX, alpha=alpha)"
   ]
  },
  {
   "cell_type": "code",
   "execution_count": 25,
   "id": "united-upgrade",
   "metadata": {},
   "outputs": [
    {
     "data": {
      "text/plain": [
       "<AxesSubplot:>"
      ]
     },
     "execution_count": 25,
     "metadata": {},
     "output_type": "execute_result"
    },
    {
     "data": {
      "image/png": "[encoded data removed]",
      "text/plain": [
       "<Figure size 432x288 with 1 Axes>"
      ]
     },
     "metadata": {
      "needs_background": "light"
     },
     "output_type": "display_data"
    }
   ],
   "source": [
    "alloc_array = np.arange(0, 1.0, 0.01)\n",
    "ys = [allocation_value(alloc=alloc, alpha=0.01, r=0.02, mu=0.05, sigma=0.15) for alloc in alloc_array]\n",
    "\n",
    "sns.lineplot(x=alloc_array, y=ys)"
   ]
  },
  {
   "cell_type": "code",
   "execution_count": null,
   "id": "infinite-reading",
   "metadata": {},
   "outputs": [],
   "source": []
  },
  {
   "cell_type": "markdown",
   "id": "integral-aquarium",
   "metadata": {},
   "source": [
    "## Problem 2\n",
    "__Quick Answer:__  Optimal policy $\\pi^{*} = \\frac{\\mu - r}{\\sigma^{2}}$\n",
    "  \n",
    "__Proofs:__  \n",
    "If we allocate $\\pi$ into risky asset, and denote the wealth to be $W_{t}$; then $dW_{t} = (r + \\pi*(\\mu - r))*W_{t}*dt + \\pi*\\sigma*W_{t}*z_{t}$.  \n",
    "Therefore, we have log(W_{t} = N($r + \\pi*(\\mu - r) - \\frac{\\pi^{2}\\sigma^{2}}{2}$, $\\pi^{2}\\sigma^{2}$).  \n",
    "\n",
    "With Utility function $U(X) = log(X)$, we have $E[U(X)] = r + \\pi*(\\mu - r) - \\frac{\\pi^{2}\\sigma^{2}}{2}$.  We have $X_{CE} = e^{r + \\pi*(\\mu - r) - \\frac{\\pi^{2}\\sigma^{2}}{2}}$.  We want to maximize $X_{CE} = e^{r + \\pi*(\\mu - r) - \\frac{\\pi^{2}\\sigma^{2}}{2}}$, or equivalently maximize $r + \\pi*(\\mu - r) - \\frac{\\pi^{2}\\sigma^{2}}{2}$.  Taking the partial derivative, and setting it to zero, we get the solution."
   ]
  },
  {
   "cell_type": "code",
   "execution_count": null,
   "id": "short-daisy",
   "metadata": {},
   "outputs": [],
   "source": []
  },
  {
   "cell_type": "markdown",
   "id": "equal-litigation",
   "metadata": {},
   "source": [
    "## Problem 3\n",
    "\n",
    "### Part (A):  \n",
    "Invest fixed proportion $0 <= f <= 1$ of initial wealth $W_{0}$.  \n",
    "2 outcomes:  \n",
    "(1) $W_{0}(1 + \\alpha*f)$,  \n",
    "(2) $W_{0}(1 - \\beta*f)$\n",
    "\n",
    "### Part (B):  \n",
    "2 outcomes to log utility:\n",
    "(1) $log(W_{0}) + log(1 + \\alpha*f)$,  \n",
    "(2) $log(W_{0}) + log(1 - \\beta*f)$\n",
    "\n",
    "### Part (C):  \n",
    "$E[log(W)] = log(W) + p*log(1 + \\alpha*f) + (1-p)*log(1 - \\beta*f)$\n",
    "\n",
    "### Part (D):  \n",
    "First derivative with respect to $f$ is:  \n",
    "$\\frac{p*\\alpha}{1 + \\alpha*f} - \\frac{(1-p)*\\beta}{1 - \\beta*f}$\n",
    "\n",
    "### Part (E):  \n",
    "Setting the first derivative to zero (and solving for $f$), we get:  \n",
    "$f^{*} = p*\\frac{1}{\\beta} - (1-p)*\\frac{1}{\\alpha}$  \n",
    "  \n",
    "Taking the second derivative, we get:  \n",
    "$-\\frac{p*(\\alpha^2)}{(1 + \\alpha*f)^2} - \\frac{(1-p)*(\\beta^2)}{(1 - \\beta*f)^2} < 0$  \n",
    "since all of the terms in the expression are positive. Therefore, by second derivative test, we are at a global maximum with the solution. \n",
    "\n",
    "### Part (F):\n",
    "The higher the value fo $\\alpha$, the negative part of the allocation formula gets smaller and similarly, the smaller the $\\beta$, the larger the allocation.   \n",
    "The reason they scale by their inverse is because thats is the derivative of log utility function.  "
   ]
  },
  {
   "cell_type": "markdown",
   "id": "statistical-basics",
   "metadata": {},
   "source": []
  },
  {
   "cell_type": "code",
   "execution_count": null,
   "id": "original-timothy",
   "metadata": {},
   "outputs": [],
   "source": []
  }
 ],
 "metadata": {
  "kernelspec": {
   "display_name": "Python 3",
   "language": "python",
   "name": "python3"
  },
  "language_info": {
   "codemirror_mode": {
    "name": "ipython",
    "version": 3
   },
   "file_extension": ".py",
   "mimetype": "text/x-python",
   "name": "python",
   "nbconvert_exporter": "python",
   "pygments_lexer": "ipython3",
   "version": "3.7.6"
  }
 },
 "nbformat": 4,
 "nbformat_minor": 5
}
