{
 "cells": [
  {
   "cell_type": "code",
   "execution_count": 52,
   "id": "rational-tyler",
   "metadata": {},
   "outputs": [],
   "source": [
    "import sys\n",
    "sys.path.append(\"../\")\n",
    "sys.path.append(\"/Users/abhinavrangarajan/opt/anaconda3/envs/SBALoan/lib/python3.7/site-packages\")"
   ]
  },
  {
   "cell_type": "markdown",
   "id": "caroline-retro",
   "metadata": {},
   "source": [
    "## Problem 1 : Monte-Carlo prediction w/ Tabular Approx"
   ]
  },
  {
   "cell_type": "code",
   "execution_count": 179,
   "id": "identified-graduation",
   "metadata": {},
   "outputs": [],
   "source": [
    "import numpy as np\n",
    "from rl.function_approx import FunctionApprox \n",
    "from dataclasses import dataclass\n",
    "from typing import TypeVar, Iterable, Tuple, Optional\n",
    "from __future__ import annotations\n",
    "from collections import defaultdict\n",
    "\n",
    "X = TypeVar('X')\n"
   ]
  },
  {
   "cell_type": "markdown",
   "id": "advised-decision",
   "metadata": {},
   "source": [
    "### Define Custom Tabular MC-Prediction"
   ]
  },
  {
   "cell_type": "code",
   "execution_count": 304,
   "id": "major-finding",
   "metadata": {},
   "outputs": [],
   "source": [
    "\n",
    "class TabularApprox(FunctionApprox):\n",
    "    def __init__(self):\n",
    "        self.count_dict = defaultdict(int)\n",
    "        self.value_dict = defaultdict(int)\n",
    "    \n",
    "    def evaluate(self, x_values_seq: Iterable[X]) -> np.ndarray:\n",
    "#         for x in x_values_seq:\n",
    "#             print(x)\n",
    "        return np.array([self.value_dict[x] for x in x_values_seq])\n",
    "    \n",
    "    def representational_gradient(self, x_value: X) -> TabularApprox[X]:\n",
    "        pass\n",
    "    \n",
    "    def solve(\n",
    "        self,\n",
    "        xy_vals_seq: Iterable[Tuple[X, float]],\n",
    "        error_tolerance: Optional[float] = None\n",
    "    ) -> TabularApprox[X]:\n",
    "        tmp = TabularApprox()\n",
    "        tmp.update(xy_vals_seq=xy_vals_seq)\n",
    "        return tmp\n",
    "    \n",
    "    def update(\n",
    "        self,\n",
    "        xy_vals_seq: Iterable[Tuple[X, float]]\n",
    "    ) -> TabularApprox:\n",
    "        for (x,y) in xy_vals_seq:\n",
    "            self.count_dict[x] += 1\n",
    "            self.value_dict[x] += (1 / self.count_dict[x]) * (y - self.value_dict[x])\n",
    "        return self\n",
    "    \n",
    "    def within(self, other: FunctionApprox[X], tolerance: float) -> bool:\n",
    "        if isinstance(other, TabularApprox):\n",
    "            return np.all(\n",
    "                (k in other) and (other.value_dict[k] == self.value_dict[k])\n",
    "                for k in self.value_dict.keys()\n",
    "            )\n",
    "\n",
    "        return False"
   ]
  },
  {
   "cell_type": "code",
   "execution_count": 181,
   "id": "greek-marine",
   "metadata": {},
   "outputs": [],
   "source": [
    "from functools import reduce\n",
    "\n",
    "# define returns mechanism\n",
    "def fetch_returns(trace, gamma=1.0):\n",
    "    def helper(array):\n",
    "        running = 0\n",
    "        for val in np.flip(array):\n",
    "            running = gamma*running + val\n",
    "            yield running\n",
    "            \n",
    "    return np.array(list(helper(trace))[::-1])"
   ]
  },
  {
   "cell_type": "code",
   "execution_count": 182,
   "id": "suspected-burst",
   "metadata": {},
   "outputs": [
    {
     "data": {
      "text/plain": [
       "array([5.23, 4.7 , 3.  ])"
      ]
     },
     "execution_count": 182,
     "metadata": {},
     "output_type": "execute_result"
    }
   ],
   "source": [
    "fetch_returns([1,2,3], gamma=0.9)"
   ]
  },
  {
   "cell_type": "code",
   "execution_count": null,
   "id": "joined-alexandria",
   "metadata": {},
   "outputs": [],
   "source": []
  },
  {
   "cell_type": "markdown",
   "id": "italian-defendant",
   "metadata": {},
   "source": [
    "### Define custom MRP to evaluate value function"
   ]
  },
  {
   "cell_type": "code",
   "execution_count": 183,
   "id": "allied-imperial",
   "metadata": {},
   "outputs": [],
   "source": [
    "np.random.seed(10)\n",
    "P = np.random.rand(10, 10)\n",
    "P = P / P.sum(axis=1).reshape(-1, 1)\n",
    "gamma = 0.5\n",
    "R = np.random.rand(10)\n",
    "\n",
    "true_V = np.linalg.inv(np.eye(10) - gamma*P) @ R"
   ]
  },
  {
   "cell_type": "code",
   "execution_count": 184,
   "id": "personal-bridal",
   "metadata": {},
   "outputs": [],
   "source": [
    "true_v_list = []\n",
    "tmp = R\n",
    "for _ in range(10):\n",
    "    true_v_list.append(tmp)\n",
    "    tmp = R + gamma * (P @ tmp)\n",
    "\n",
    "true_V_mat = np.array(true_v_list[::-1]).T"
   ]
  },
  {
   "cell_type": "code",
   "execution_count": 185,
   "id": "coordinate-interim",
   "metadata": {},
   "outputs": [
    {
     "data": {
      "text/plain": [
       "array([[1.01057113, 1.00963849, 1.00777319, 1.00404258, 0.9965811 ,\n",
       "        0.98165582, 0.95182311, 0.89265211, 0.77981024, 0.57813643],\n",
       "       [1.39150689, 1.39057424, 1.38870894, 1.38497834, 1.37751716,\n",
       "        1.36259539, 1.33275284, 1.27288034, 1.14964525, 0.85393375],\n",
       "       [0.54294864, 0.54201599, 0.54015069, 0.53642009, 0.52895891,\n",
       "        0.51403672, 0.48420173, 0.42456753, 0.30642069, 0.06809727],\n",
       "       [0.90657442, 0.90564177, 0.90377647, 0.90004588, 0.8925845 ,\n",
       "        0.87766216, 0.84780184, 0.78843259, 0.6700074 , 0.46453081],\n",
       "       [1.27475554, 1.27382289, 1.27195759, 1.26822701, 1.26076584,\n",
       "        1.2458407 , 1.21596934, 1.15611203, 1.03758945, 0.78194912],\n",
       "       [1.18643031, 1.18549766, 1.18363236, 1.17990178, 1.17244085,\n",
       "        1.15751975, 1.12766665, 1.0678046 , 0.94832317, 0.71860281],\n",
       "       [1.08397023, 1.08303758, 1.08117228, 1.07744168, 1.06998046,\n",
       "        1.0550596 , 1.02522543, 0.96559716, 0.84361688, 0.58602198],\n",
       "       [0.49850852, 0.49757587, 0.49571057, 0.49197998, 0.48451907,\n",
       "        0.46959677, 0.43972595, 0.37941025, 0.25774577, 0.03709441],\n",
       "       [0.83050681, 0.82957416, 0.82770886, 0.82397824, 0.81651698,\n",
       "        0.80159715, 0.77177484, 0.7122078 , 0.59038881, 0.35065639],\n",
       "       [1.06532371, 1.06439106, 1.06252576, 1.05879516, 1.05133402,\n",
       "        1.0364109 , 1.00658189, 0.94682325, 0.82824833, 0.56319068]])"
      ]
     },
     "execution_count": 185,
     "metadata": {},
     "output_type": "execute_result"
    }
   ],
   "source": [
    "true_V_mat"
   ]
  },
  {
   "cell_type": "code",
   "execution_count": 186,
   "id": "micro-samuel",
   "metadata": {},
   "outputs": [
    {
     "data": {
      "text/plain": [
       "array([1.01150378, 1.39243954, 0.54388129, 0.90750707, 1.27568819,\n",
       "       1.18736296, 1.08490288, 0.49944117, 0.83143946, 1.06625636])"
      ]
     },
     "execution_count": 186,
     "metadata": {},
     "output_type": "execute_result"
    }
   ],
   "source": [
    "true_V"
   ]
  },
  {
   "cell_type": "code",
   "execution_count": null,
   "id": "chinese-startup",
   "metadata": {},
   "outputs": [],
   "source": []
  },
  {
   "cell_type": "code",
   "execution_count": 262,
   "id": "black-lawyer",
   "metadata": {},
   "outputs": [],
   "source": [
    "def generate_traces(num=100000):\n",
    "    np.random.seed(10)\n",
    "    return [generate_trace() for _ in range(num)]\n",
    "    \n",
    "def generate_trace(size=10):\n",
    "    trace_states, trace_reward = [], []\n",
    "    current_state = np.random.choice(10)\n",
    "    for i in range(10):\n",
    "        trace_states.append((current_state, i))\n",
    "        trace_reward.append(R[current_state] + np.random.randn()*0.25) # add noise to reward\n",
    "        current_state = np.random.choice(10, p=P[current_state])\n",
    "    return trace_states, trace_reward"
   ]
  },
  {
   "cell_type": "code",
   "execution_count": null,
   "id": "referenced-finland",
   "metadata": {},
   "outputs": [],
   "source": []
  },
  {
   "cell_type": "markdown",
   "id": "supreme-giving",
   "metadata": {},
   "source": [
    "### Compare Function Approx to Real Values "
   ]
  },
  {
   "cell_type": "code",
   "execution_count": 279,
   "id": "listed-people",
   "metadata": {},
   "outputs": [],
   "source": [
    "tab = TabularApprox()"
   ]
  },
  {
   "cell_type": "code",
   "execution_count": 280,
   "id": "acquired-sampling",
   "metadata": {},
   "outputs": [],
   "source": [
    "for trace_states, trace_rewards in generate_traces():\n",
    "    mc_reward = fetch_returns(trace_rewards, gamma=gamma)\n",
    "    for (s, g) in zip(trace_states, mc_reward):\n",
    "        tab.update([[s, g]])"
   ]
  },
  {
   "cell_type": "code",
   "execution_count": 281,
   "id": "political-agriculture",
   "metadata": {},
   "outputs": [],
   "source": [
    "for k, v in tab.value_dict.items():\n",
    "    if not np.isclose(true_V_mat[k], v, atol=0.01):\n",
    "        print(f\"{k} is very different\")"
   ]
  },
  {
   "cell_type": "markdown",
   "id": "magnetic-personality",
   "metadata": {},
   "source": [
    "#### ^ As we can see above ^, the values are close to the truth within 0.01 error"
   ]
  },
  {
   "cell_type": "code",
   "execution_count": null,
   "id": "simplified-ranking",
   "metadata": {},
   "outputs": [],
   "source": []
  },
  {
   "cell_type": "code",
   "execution_count": null,
   "id": "continent-display",
   "metadata": {},
   "outputs": [],
   "source": []
  },
  {
   "cell_type": "markdown",
   "id": "capable-poverty",
   "metadata": {},
   "source": [
    "## Problem 2: Temporal Difference with Tabular Function Approx."
   ]
  },
  {
   "cell_type": "code",
   "execution_count": 319,
   "id": "subtle-offset",
   "metadata": {},
   "outputs": [],
   "source": [
    "tab2 = TabularApprox()"
   ]
  },
  {
   "cell_type": "code",
   "execution_count": 320,
   "id": "steady-comparison",
   "metadata": {},
   "outputs": [],
   "source": [
    "for trace_states, trace_rewards in generate_traces(100000):\n",
    "    for i in range(10):\n",
    "        s = trace_states[i]\n",
    "        r = trace_rewards[i]\n",
    "        v_prime = tab2.evaluate([trace_states[i+1]])[0] if (i+1 < 10) else 0.0\n",
    "        \n",
    "        tab2.update([[s, r + gamma*v_prime]])"
   ]
  },
  {
   "cell_type": "code",
   "execution_count": null,
   "id": "saving-picture",
   "metadata": {},
   "outputs": [],
   "source": []
  },
  {
   "cell_type": "code",
   "execution_count": 321,
   "id": "backed-affiliate",
   "metadata": {},
   "outputs": [],
   "source": [
    "for k, v in tab2.value_dict.items():\n",
    "    if not np.isclose(true_V_mat[k], v, atol=0.1):\n",
    "        print(f\"{k} is very different\")"
   ]
  },
  {
   "cell_type": "markdown",
   "id": "raising-sponsorship",
   "metadata": {},
   "source": [
    "#### ^ As we can see above ^, the values are close to the truth within 0.01 error"
   ]
  },
  {
   "cell_type": "code",
   "execution_count": null,
   "id": "taken-curtis",
   "metadata": {},
   "outputs": [],
   "source": []
  },
  {
   "cell_type": "code",
   "execution_count": null,
   "id": "deadly-reunion",
   "metadata": {},
   "outputs": [],
   "source": []
  },
  {
   "cell_type": "code",
   "execution_count": null,
   "id": "looking-progressive",
   "metadata": {},
   "outputs": [],
   "source": []
  }
 ],
 "metadata": {
  "kernelspec": {
   "display_name": "Python 3",
   "language": "python",
   "name": "python3"
  },
  "language_info": {
   "codemirror_mode": {
    "name": "ipython",
    "version": 3
   },
   "file_extension": ".py",
   "mimetype": "text/x-python",
   "name": "python",
   "nbconvert_exporter": "python",
   "pygments_lexer": "ipython3",
   "version": "3.9.1"
  }
 },
 "nbformat": 4,
 "nbformat_minor": 5
}
