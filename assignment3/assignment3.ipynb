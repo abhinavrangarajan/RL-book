{
 "cells": [
  {
   "cell_type": "markdown",
   "metadata": {},
   "source": [
    "# Problem 1"
   ]
  },
  {
   "cell_type": "markdown",
   "metadata": {},
   "source": [
    "Adapting the four Bellman Equations from page (100) of Rao's book to deterministic policy $\\pi_{D}$:\n",
    "\n",
    "1. $V^{\\pi_{D}}(s) = max_{a \\in A} Q^{\\pi_{D}}(s, a),\\ \\forall s \\in N$\n",
    "2. $Q^{\\pi_{D}}(s, a) = R(s, a) + \\gamma * \\sum_{s' \\in N} P(s, a, s')V^{\\pi_{D}}(s'),\\ \\forall s \\in N,\\ \\forall a \\in A$ \n",
    "3. $V^{\\pi_{D}}(s) = R(s, \\pi_{D}(s)) + \\gamma * \\sum_{s' \\in N} P(s, \\pi_{D}(s), s')V^{\\pi_{D}}(s') ,\\ \\forall s \\in N$ \n",
    "4. $Q^{\\pi_{D}}(s, a) = R(s, a) + \\gamma * \\sum_{s' \\in N} P(s, a, s') * Q^{\\pi_{D}}(s', \\pi_{D}(s')),\\ \\forall s \\in N,\\ \\forall a \\in A$ "
   ]
  },
  {
   "cell_type": "markdown",
   "metadata": {},
   "source": [
    "# Problem 2\n",
    "\n",
    "## Computing V*\n",
    "$\\textbf{Quick Answer: } V^{*}(s) = \\frac{9}{4},\\ \\forall s \\in N$  \n",
    "\n",
    "### My Proof\n",
    "\n",
    "$$\n",
    "V^{*}(s) = \\max_{a \\in A}\\ R(s, a) + \\gamma * \\sum_{s' \\in N} P(s, a, s')V^{*}(s') ,\\ \\forall s \\in N\n",
    "$$ \n",
    "\n",
    "where $\\gamma = 1/2$.  \n",
    "\n",
    "In this problem, the rewards function is:\n",
    "\n",
    "$$\n",
    "  R(s, a) = P(s+1\\ \\|\\ s) * R(s+1\\ \\|\\ s) + P(s\\ \\|\\ s) * R(s\\ \\|\\ s) \\\\ \n",
    "          = (1-a) * a + (1+a)*(1-a) = (1-a)*(1+2a) = 1 + a - 2*a^{2}\n",
    "$$\n",
    "\n",
    "The reward is only a function of $a$, is the same for all states, so $R(s, a) = R(a)$. The function is maximized at $a = 1/4$, so $R(1/4) = 9/8$. \n",
    "\n",
    "Moreover, the rewards and the transition probabilities from $s \\rightarrow s+1$ and $s \\rightarrow s$ are the same $\\forall s \\in N$.  \n",
    "\n",
    "I think that we can collapse this infinite state space of Natural Numbers to the Finite MDP with state space equal field $Z_{2}$ consisting of the states $\\{1, 2\\}$, where $1 = (2+1)\\ mod\\ 2$.  \n",
    "\n",
    "So we have the following system:\n",
    "\n",
    "$\\begin{bmatrix} V^{*}(1) \\\\ V^{*}(2) \\end{bmatrix}$ = $\\max_{a \\in A}\\ \\overrightarrow{1}*(9/8) + (1/2) * \n",
    "\\begin{bmatrix} \\ a\\ \\ \\ \\ \\ (1-a) \\newline (1-a)\\ \\ \\ \\ \\ a  \\end{bmatrix}$ $* \\begin{bmatrix} V^{*}(1) \\\\ V^{*}(2) \\end{bmatrix}$\n",
    "\n",
    "If the above is valid, then we can see from the above that $V^{*}$ is the same for all states $s \\in N$.  \n",
    "\n",
    "$$\n",
    "V^{*}(s) = (9/8) + (1/2)*V^{*}(s)\n",
    "$$\n",
    "so $V^{*}(s) = \\frac{9}{4},\\ \\forall s \\in N$.\n",
    "\n",
    "## Optimal Deterministic Policy\n",
    "Based on the results from part (1), the optimal policy $\\forall s \\in S$ is $a = \\frac{1}{4}$."
   ]
  },
  {
   "cell_type": "markdown",
   "metadata": {},
   "source": [
    "# Problem 3\n",
    "\n",
    "State space $S = \\{0, 1, \\dots, N-1, N\\}$, Terminal states $T \\subset S = \\{0, N\\}$  \n",
    "\n",
    "Action/Croak $A \\rightarrow 0$, and $B \\rightarrow 1$  \n",
    "\n",
    "Reward Function:  \n",
    "$R(\\_,\\_,\\ 0) = -10$  \n",
    "$R(\\_,\\_,\\ N) = 10$  \n",
    "$R(\\_,\\_,\\ j) = 0,\\ j \\neq 0,\\ j \\neq N$\n",
    "\n",
    "Transition Probabilities:  \n",
    "$P(0, \\{0,\\ 1\\}, 0) = 1$  \n",
    "$P(N, \\{0,\\ 1\\}, N) = 1$  \n",
    "\n",
    "$P(i, 0, i-1) = \\frac{i}{N},\\ i \\in [1, N-1]$  \n",
    "$P(i, 0, i+1) = 1 - \\frac{i}{N},\\ i \\in [1, N-1]$  \n",
    "$P(i, 0, i-1) = \\frac{i}{N},\\ i \\in [1, N-1]$  \n",
    "$P(i, 0, i+1) = 1 - \\frac{i}{N},\\ i \\in [1, N-1]$ \n",
    "\n",
    "$P(i, 1, j) = \\frac{1}{N},\\ i \\in [1, N-1],\\ j\\ \\neq i,\\ j \\in [0, N]$   \n",
    "\n"
   ]
  },
  {
   "cell_type": "code",
   "execution_count": 54,
   "metadata": {},
   "outputs": [
    {
     "name": "stdout",
     "output_type": "stream",
     "text": [
      "The autoreload extension is already loaded. To reload it, use:\n",
      "  %reload_ext autoreload\n"
     ]
    }
   ],
   "source": [
    "import sys\n",
    "sys.path.append(\"../rl/\")\n",
    "\n",
    "from markov_decision_process import FiniteMarkovDecisionProcess, FinitePolicy\n",
    "from distribution import Categorical, Choose, Constant\n",
    "from collections import defaultdict\n",
    "import numpy as np\n",
    "import seaborn as sns\n",
    "\n",
    "%load_ext autoreload\n",
    "%autoreload 2\n"
   ]
  },
  {
   "cell_type": "code",
   "execution_count": 42,
   "metadata": {},
   "outputs": [],
   "source": [
    "def get_frog_MDP(N=10):\n",
    "    action_mapping = {}\n",
    "\n",
    "    action_mapping[0], action_mapping[N] = None, None\n",
    "    \n",
    "    reward_func = lambda s: 10.0*(s==N) - 10.0*(s==0)\n",
    "    \n",
    "    for i in range(1, N, 1):\n",
    "        action_mapping[i] = {\n",
    "            '0': Categorical({ (i-1, reward_func(i-1)):(i/N), (i+1, reward_func(i+1)):(1-(i/N)) }),\n",
    "            '1': Categorical({ (j, reward_func(j)): (1/N) for j in range(0, N+1, 1) if j != i })\n",
    "        }\n",
    "    \n",
    "    return FiniteMarkovDecisionProcess(action_mapping)\n",
    "    "
   ]
  },
  {
   "cell_type": "code",
   "execution_count": 34,
   "metadata": {},
   "outputs": [
    {
     "data": {
      "text/plain": [
       "For State 0:\n",
       "  Do Action 0 with Probability 1.000\n",
       "For State 1:\n",
       "  Do Action 0 with Probability 1.000\n",
       "For State 2:\n",
       "  Do Action 0 with Probability 1.000\n",
       "For State 3:\n",
       "  Do Action 0 with Probability 1.000\n",
       "For State 4:\n",
       "  Do Action 0 with Probability 1.000"
      ]
     },
     "execution_count": 34,
     "metadata": {},
     "output_type": "execute_result"
    }
   ],
   "source": [
    "def generate_binary_vectors(n):\n",
    "    return [ list(f'{i:0{n}b}') for i in range(0, 2**n, 1) ]\n",
    "\n",
    "def create_policy_from_binary_vector(bin_vec):\n",
    "    mapping = {}\n",
    "    for i, k in enumerate(bin_vec):\n",
    "        mapping[i] = Constant(k)\n",
    "\n",
    "    policy = FinitePolicy(mapping)\n",
    "    return policy\n",
    "\n",
    "create_policy_from_binary_vector( generate_binary_vectors(5)[0] ) "
   ]
  },
  {
   "cell_type": "code",
   "execution_count": 48,
   "metadata": {},
   "outputs": [],
   "source": [
    "def get_optimal_policy(finite_mdp):\n",
    "    N = len(finite_mdp.states())\n",
    "    \n",
    "    current_max, current_v = None, None\n",
    "    \n",
    "    for policy_vector in generate_binary_vectors(N):\n",
    "        policy = create_policy_from_binary_vector( policy_vector ) \n",
    "        finite_mrp = finite_mdp.apply_finite_policy( policy )\n",
    "        tmp_vec = finite_mrp.get_value_function_vec(gamma=1)\n",
    "        \n",
    "        if (current_max is None) or (np.sum(tmp_vec) > current_max):\n",
    "            current_max, current_v = np.sum(tmp_vec), tmp_vec\n",
    "    \n",
    "    return current_v\n"
   ]
  },
  {
   "cell_type": "code",
   "execution_count": 50,
   "metadata": {},
   "outputs": [],
   "source": [
    "def get_optimal(N):\n",
    "    finite_mdp = get_frog_MDP(N)\n",
    "    return get_optimal_policy(finite_mdp)"
   ]
  },
  {
   "cell_type": "code",
   "execution_count": 58,
   "metadata": {},
   "outputs": [
    {
     "data": {
      "image/png": "[encoded data removed]",
      "text/plain": [
       "<Figure size 432x288 with 1 Axes>"
      ]
     },
     "metadata": {
      "needs_background": "light"
     },
     "output_type": "display_data"
    }
   ],
   "source": [
    "for j in range(3, 10, 1):\n",
    "    ys = get_optimal(j)\n",
    "    xs = np.arange(1, j, 1)\n",
    "    sns.lineplot(x=xs, y=ys, label=f\"{j}\")"
   ]
  },
  {
   "cell_type": "code",
   "execution_count": null,
   "metadata": {},
   "outputs": [],
   "source": []
  },
  {
   "cell_type": "code",
   "execution_count": null,
   "metadata": {},
   "outputs": [],
   "source": []
  },
  {
   "cell_type": "markdown",
   "metadata": {},
   "source": [
    "# Problem 4\n"
   ]
  },
  {
   "cell_type": "markdown",
   "metadata": {},
   "source": [
    "$\\textbf{Quick Answer:}\\ V^{*} = e^{\\frac{-s^{2}}{2*\\sigma^{2}}}$ or $a^{*} = \\frac{-s}{\\sigma^{2}}$\n",
    "\n",
    "### Proof\n",
    "\n",
    "Because $\\gamma = 0$, we have:\n",
    "$$\n",
    "  V*(s) = min_{a \\in A} \\{ R(s, a) \\} \\\\\n",
    "        = min_{a \\in A} \\{ E[ e^{as'} ] \\} \\\\\n",
    "        = min_{a \\in A}\\ \\{\\ \\frac{1}{\\sigma * \\sqrt{2\\pi}} \\int_{s'} e^{as'} * e^{ \\frac{-(s'-s)^{2}}{2*\\sigma^{2}}}\\ \\} \\\\\n",
    "        = min_{a \\in A}\\ \\{\\ e^{s*a\\ +\\ \\sigma^{2}*a^{2}/2}\\ \\frac{1}{\\sigma * \\sqrt{2\\pi}} * \\int_{s'} e^{ \\frac{-(s'-(s + a*\\sigma^{2}))^{2}}{2*\\sigma^{2}}}\\ \\} \\\\\n",
    "        = min_{a \\in A}\\ \\{\\ e^{s*a\\ +\\ \\sigma^{2}*a^{2}/2}\\ \\} \n",
    "$$\n",
    "\n",
    "For each state $s$, we want to find:\n",
    "$$\n",
    "    \\pi(s) = argmin_{a \\in A}\\ \\{\\ e^{s*a\\ +\\ \\sigma^{2}*a^{2}/2}\\ \\} \n",
    "$$\n",
    "  \n",
    "The optimal action mapping $s \\rightarrow a$ that is the solution of the above, is also the solution to the log of the above, or:\n",
    "$$\n",
    "    \\pi(s) = argmin_{a \\in A}\\ \\{\\ s*a\\ +\\ \\sigma^{2}*a^{2}/2 \\} \n",
    "$$\n",
    "  \n",
    "Taking the partial derivative with respect to $a$ and setting to zero:  \n",
    "$$\n",
    "  s + \\sigma^{2}*a = 0\\ \\rightarrow\\ a = \\frac{-s}{\\sigma^{2}}\n",
    "$$  \n",
    "  \n",
    "Plugging the optimal $a*(s)$ into the expression for $V*$ above:\n",
    "\n",
    "$$\n",
    "    V^{*}(s) = e^{\\frac{-s^{2}}{\\sigma^{2}}\\ +\\ \\sigma^{2}*(\\frac{-s}{\\sigma^{2}})^{2}/2} \\\\\n",
    "          = e^{\\frac{-s^{2}}{2*\\sigma^{2}}}\n",
    "$$"
   ]
  },
  {
   "cell_type": "code",
   "execution_count": null,
   "metadata": {},
   "outputs": [],
   "source": []
  }
 ],
 "metadata": {
  "kernelspec": {
   "display_name": "Python 3",
   "language": "python",
   "name": "python3"
  },
  "language_info": {
   "codemirror_mode": {
    "name": "ipython",
    "version": 3
   },
   "file_extension": ".py",
   "mimetype": "text/x-python",
   "name": "python",
   "nbconvert_exporter": "python",
   "pygments_lexer": "ipython3",
   "version": "3.8.2"
  }
 },
 "nbformat": 4,
 "nbformat_minor": 4
}
