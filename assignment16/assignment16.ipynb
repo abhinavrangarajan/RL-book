{
 "cells": [
  {
   "cell_type": "markdown",
   "metadata": {},
   "source": [
    "# Problem 1 : Implementing REINFORCE Algorithm"
   ]
  },
  {
   "cell_type": "code",
   "execution_count": 1,
   "metadata": {},
   "outputs": [],
   "source": [
    "gamma = 0.9"
   ]
  },
  {
   "cell_type": "code",
   "execution_count": null,
   "metadata": {},
   "outputs": [],
   "source": [
    "# mdp.simulate(init_state)\n",
    "action = mdp.simulate(state)\n",
    "next_distribution = mdp.step(state, action)\n",
    "next_state, reward = next_distribution.sample()\n"
   ]
  },
  {
   "cell_type": "code",
   "execution_count": 2,
   "metadata": {},
   "outputs": [],
   "source": [
    "def compute_REINFORCE_gradient_single_episode(rewards, states, actions, policy, alpha, gamma):\n",
    "    for i in range(len(rewards)):\n",
    "        (s, a, r) = states[i], actions[i], rewards[i]\n",
    "        G = 0\n",
    "        for r_ in reversed(rewards[i:]):\n",
    "            G = r_ + gamma*G\n",
    "\n",
    "        policy_weights += alpha * (gamma**t) * grad_log_policy(s, a) * G\n",
    "    \n",
    "    return policy_weights"
   ]
  },
  {
   "cell_type": "code",
   "execution_count": null,
   "metadata": {},
   "outputs": [],
   "source": []
  }
 ],
 "metadata": {
  "kernelspec": {
   "display_name": "Python 3",
   "language": "python",
   "name": "python3"
  },
  "language_info": {
   "codemirror_mode": {
    "name": "ipython",
    "version": 3
   },
   "file_extension": ".py",
   "mimetype": "text/x-python",
   "name": "python",
   "nbconvert_exporter": "python",
   "pygments_lexer": "ipython3",
   "version": "3.7.6"
  }
 },
 "nbformat": 4,
 "nbformat_minor": 5
}
