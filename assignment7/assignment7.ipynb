{
 "cells": [
  {
   "cell_type": "markdown",
   "id": "joint-limitation",
   "metadata": {},
   "source": [
    "## Problem 1 ( NOTE: Repeat of Assignment 6, Problem 2 ) \n",
    "__Quick Answer:__  Optimal policy $\\pi^{*} = \\frac{\\mu - r}{\\sigma^{2}}$\n",
    "  \n",
    "__Proofs:__  \n",
    "If we allocate $\\pi$ into risky asset, and denote the wealth to be $W_{t}$; then $dW_{t} = (r + \\pi*(\\mu - r))*W_{t}*dt + \\pi*\\sigma*W_{t}*z_{t}$.  \n",
    "Therefore, we have log(W_{t} = N($r + \\pi*(\\mu - r) - \\frac{\\pi^{2}\\sigma^{2}}{2}$, $\\pi^{2}\\sigma^{2}$).  \n",
    "\n",
    "With Utility function $U(X) = log(X)$, we have $E[U(X)] = r + \\pi*(\\mu - r) - \\frac{\\pi^{2}\\sigma^{2}}{2}$.  We have $X_{CE} = e^{r + \\pi*(\\mu - r) - \\frac{\\pi^{2}\\sigma^{2}}{2}}$.  We want to maximize $X_{CE} = e^{r + \\pi*(\\mu - r) - \\frac{\\pi^{2}\\sigma^{2}}{2}}$, or equivalently maximize $r + \\pi*(\\mu - r) - \\frac{\\pi^{2}\\sigma^{2}}{2}$.  Taking the partial derivative, and setting it to zero, we get the solution."
   ]
  },
  {
   "cell_type": "code",
   "execution_count": null,
   "id": "conservative-crazy",
   "metadata": {},
   "outputs": [],
   "source": []
  }
 ],
 "metadata": {
  "kernelspec": {
   "display_name": "Python 3",
   "language": "python",
   "name": "python3"
  },
  "language_info": {
   "codemirror_mode": {
    "name": "ipython",
    "version": 3
   },
   "file_extension": ".py",
   "mimetype": "text/x-python",
   "name": "python",
   "nbconvert_exporter": "python",
   "pygments_lexer": "ipython3",
   "version": "3.9.1"
  }
 },
 "nbformat": 4,
 "nbformat_minor": 5
}
