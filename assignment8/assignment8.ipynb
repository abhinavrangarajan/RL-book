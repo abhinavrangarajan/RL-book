{
 "cells": [
  {
   "cell_type": "markdown",
   "id": "upper-chamber",
   "metadata": {},
   "source": [
    "## Problem 2\n",
    "__Quick Answer__: $S = CDF^{-1}(\\frac{p}{p+h})$ or $S = F^{-1}(\\frac{p}{p+h})$\n",
    "\n",
    "Furthermore, the cost $g(S)$ is like owning $p$ Call options and $h$ put options, each with strike $K = S$.  \n",
    "\n",
    "__Proof__:  \n",
    "We have the  \n",
    "$$\n",
    "\\begin{aligned}\n",
    "g(S) = p * \\int_{S}^{\\infty} (X - S)*f(X) dx  +  h * \\int_{-\\infty}^{S} (S - X) * f(X) dx \\\\\n",
    "g(S) = p * \\bigg[ \\int_{S}^{\\infty} X*f(X) dx\\ -\\ S*P(X \\geq S)\\ \\bigg] + h * \\bigg[ S*P(X \\leq S) - \\int_{-\\infty}^{S} X*f(X) dx \\bigg]\n",
    "\\end{aligned}\n",
    "$$\n",
    "\n",
    "Taking the first derivative (w.r.t. S), we have:  \n",
    "$$\n",
    "\\begin{aligned}\n",
    "g'(S) = p * \\bigg[ -1 + CDF(S) \\bigg] + h*CDF(S)\n",
    "\\end{aligned}\n",
    "$$\n",
    "  \n",
    "Taking the second derivative, we have:  \n",
    "$$\n",
    "\\begin{aligned}\n",
    "g''(S) = p * PDF(S) + h * PDF(S) > 0\n",
    "\\end{aligned}\n",
    "$$\n",
    "which is always positive, so we are finding a global minimum.   \n",
    "  \n",
    "Setting $g(S) = 0$ and re-arranging, we get the solution: $S = CDF^{-1}(\\frac{p}{p+h})$."
   ]
  },
  {
   "cell_type": "code",
   "execution_count": null,
   "id": "stretch-montreal",
   "metadata": {},
   "outputs": [],
   "source": []
  },
  {
   "cell_type": "code",
   "execution_count": null,
   "id": "social-papua",
   "metadata": {},
   "outputs": [],
   "source": []
  },
  {
   "cell_type": "code",
   "execution_count": null,
   "id": "sufficient-burner",
   "metadata": {},
   "outputs": [],
   "source": []
  },
  {
   "cell_type": "code",
   "execution_count": null,
   "id": "developmental-beauty",
   "metadata": {},
   "outputs": [],
   "source": []
  }
 ],
 "metadata": {
  "kernelspec": {
   "display_name": "Python 3",
   "language": "python",
   "name": "python3"
  },
  "language_info": {
   "codemirror_mode": {
    "name": "ipython",
    "version": 3
   },
   "file_extension": ".py",
   "mimetype": "text/x-python",
   "name": "python",
   "nbconvert_exporter": "python",
   "pygments_lexer": "ipython3",
   "version": "3.9.1"
  }
 },
 "nbformat": 4,
 "nbformat_minor": 5
}
