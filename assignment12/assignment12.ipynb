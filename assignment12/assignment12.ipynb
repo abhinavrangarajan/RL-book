{
 "cells": [
  {
   "cell_type": "code",
   "execution_count": 2,
   "id": "actual-anchor",
   "metadata": {},
   "outputs": [],
   "source": [
    "import sys\n",
    "sys.path.append(\"../\")\n",
    "sys.path.append(\"/Users/abhinavrangarajan/opt/anaconda3/envs/SBALoan/lib/python3.7/site-packages\")"
   ]
  },
  {
   "cell_type": "code",
   "execution_count": 3,
   "id": "starting-measure",
   "metadata": {},
   "outputs": [],
   "source": [
    "import numpy as np\n",
    "from rl.function_approx import FunctionApprox \n",
    "from dataclasses import dataclass\n",
    "from typing import TypeVar, Iterable, Tuple, Optional\n",
    "from __future__ import annotations\n",
    "from collections import defaultdict\n",
    "\n",
    "X = TypeVar('X')\n"
   ]
  },
  {
   "cell_type": "markdown",
   "id": "modified-testament",
   "metadata": {},
   "source": [
    "## Redined Tabular Function Approx from Assignment 11"
   ]
  },
  {
   "cell_type": "code",
   "execution_count": 4,
   "id": "religious-morgan",
   "metadata": {},
   "outputs": [],
   "source": [
    "\n",
    "class TabularApprox(FunctionApprox):\n",
    "    def __init__(self):\n",
    "        self.count_dict = defaultdict(int)\n",
    "        self.value_dict = defaultdict(int)\n",
    "    \n",
    "    def evaluate(self, x_values_seq: Iterable[X]) -> np.ndarray:\n",
    "#         for x in x_values_seq:\n",
    "#             print(x)\n",
    "        return np.array([self.value_dict[x] for x in x_values_seq])\n",
    "    \n",
    "    def representational_gradient(self, x_value: X) -> TabularApprox[X]:\n",
    "        pass\n",
    "    \n",
    "    def solve(\n",
    "        self,\n",
    "        xy_vals_seq: Iterable[Tuple[X, float]],\n",
    "        error_tolerance: Optional[float] = None\n",
    "    ) -> TabularApprox[X]:\n",
    "        tmp = TabularApprox()\n",
    "        tmp.update(xy_vals_seq=xy_vals_seq)\n",
    "        return tmp\n",
    "    \n",
    "    def update(\n",
    "        self,\n",
    "        xy_vals_seq: Iterable[Tuple[X, float]]\n",
    "    ) -> TabularApprox:\n",
    "        for (x,y) in xy_vals_seq:\n",
    "            self.count_dict[x] += 1\n",
    "            self.value_dict[x] += (1 / self.count_dict[x]) * (y - self.value_dict[x])\n",
    "        return self\n",
    "    \n",
    "    def within(self, other: FunctionApprox[X], tolerance: float) -> bool:\n",
    "        if isinstance(other, TabularApprox):\n",
    "            return np.all(\n",
    "                (k in other) and (other.value_dict[k] == self.value_dict[k])\n",
    "                for k in self.value_dict.keys()\n",
    "            )\n",
    "\n",
    "        return False\n"
   ]
  },
  {
   "cell_type": "code",
   "execution_count": 80,
   "id": "occasional-israel",
   "metadata": {},
   "outputs": [],
   "source": [
    "np.random.seed(10)\n",
    "P = np.random.rand(10, 10)\n",
    "P = P / P.sum(axis=1).reshape(-1, 1)\n",
    "gamma = 0.5\n",
    "R = np.random.rand(10)\n",
    "\n",
    "true_V = np.linalg.inv(np.eye(10) - gamma*P) @ R\n"
   ]
  },
  {
   "cell_type": "code",
   "execution_count": 13,
   "id": "mathematical-scottish",
   "metadata": {},
   "outputs": [],
   "source": [
    "def generate_traces(num=100000):\n",
    "    np.random.seed(10)\n",
    "    return [generate_trace() for _ in range(num)]\n",
    "    \n",
    "def generate_trace(size=10):\n",
    "    trace_states, trace_reward = [], []\n",
    "    current_state = np.random.choice(10)\n",
    "    for i in range(10):\n",
    "        trace_states.append((current_state, i))\n",
    "        trace_reward.append(R[current_state] + np.random.randn()*0.25) # add noise to reward\n",
    "        current_state = np.random.choice(10, p=P[current_state])\n",
    "    return trace_states, trace_reward\n"
   ]
  },
  {
   "cell_type": "code",
   "execution_count": 33,
   "id": "suited-blanket",
   "metadata": {},
   "outputs": [],
   "source": [
    "true_v_list = []\n",
    "tmp = R\n",
    "for _ in range(10):\n",
    "    true_v_list.append(tmp)\n",
    "    tmp = R + gamma * (P @ tmp)\n",
    "\n",
    "true_V_mat = np.array(true_v_list[::-1]).T\n"
   ]
  },
  {
   "cell_type": "code",
   "execution_count": 67,
   "id": "annual-measurement",
   "metadata": {},
   "outputs": [
    {
     "data": {
      "text/plain": [
       "array([[1.01057113, 1.00963849, 1.00777319, 1.00404258, 0.9965811 ,\n",
       "        0.98165582, 0.95182311, 0.89265211, 0.77981024, 0.57813643],\n",
       "       [1.39150689, 1.39057424, 1.38870894, 1.38497834, 1.37751716,\n",
       "        1.36259539, 1.33275284, 1.27288034, 1.14964525, 0.85393375],\n",
       "       [0.54294864, 0.54201599, 0.54015069, 0.53642009, 0.52895891,\n",
       "        0.51403672, 0.48420173, 0.42456753, 0.30642069, 0.06809727],\n",
       "       [0.90657442, 0.90564177, 0.90377647, 0.90004588, 0.8925845 ,\n",
       "        0.87766216, 0.84780184, 0.78843259, 0.6700074 , 0.46453081],\n",
       "       [1.27475554, 1.27382289, 1.27195759, 1.26822701, 1.26076584,\n",
       "        1.2458407 , 1.21596934, 1.15611203, 1.03758945, 0.78194912],\n",
       "       [1.18643031, 1.18549766, 1.18363236, 1.17990178, 1.17244085,\n",
       "        1.15751975, 1.12766665, 1.0678046 , 0.94832317, 0.71860281],\n",
       "       [1.08397023, 1.08303758, 1.08117228, 1.07744168, 1.06998046,\n",
       "        1.0550596 , 1.02522543, 0.96559716, 0.84361688, 0.58602198],\n",
       "       [0.49850852, 0.49757587, 0.49571057, 0.49197998, 0.48451907,\n",
       "        0.46959677, 0.43972595, 0.37941025, 0.25774577, 0.03709441],\n",
       "       [0.83050681, 0.82957416, 0.82770886, 0.82397824, 0.81651698,\n",
       "        0.80159715, 0.77177484, 0.7122078 , 0.59038881, 0.35065639],\n",
       "       [1.06532371, 1.06439106, 1.06252576, 1.05879516, 1.05133402,\n",
       "        1.0364109 , 1.00658189, 0.94682325, 0.82824833, 0.56319068]])"
      ]
     },
     "execution_count": 67,
     "metadata": {},
     "output_type": "execute_result"
    }
   ],
   "source": [
    "true_V_mat\n"
   ]
  },
  {
   "cell_type": "markdown",
   "id": "popular-input",
   "metadata": {},
   "source": [
    "## Problem 1 (n=4)"
   ]
  },
  {
   "cell_type": "code",
   "execution_count": 54,
   "id": "heated-strengthening",
   "metadata": {},
   "outputs": [],
   "source": [
    "tab2 = TabularApprox()\n",
    "n=4"
   ]
  },
  {
   "cell_type": "code",
   "execution_count": 55,
   "id": "signed-safety",
   "metadata": {},
   "outputs": [],
   "source": [
    "for trace_states, trace_rewards in generate_traces(100000):\n",
    "    for i in range(10):\n",
    "        s = trace_states[i]\n",
    "        r = trace_rewards[i]\n",
    "        \n",
    "        edge = min(10, i+n)\n",
    "        tmp_list = trace_rewards[i:edge] + [tab2.evaluate([trace_states[edge]])[0] if edge < 10 else 0.0]\n",
    "\n",
    "        tmp = 0.0\n",
    "        for el in reversed(tmp_list):\n",
    "            tmp = gamma*tmp + el\n",
    "        \n",
    "        tab2.update([[s, tmp]])"
   ]
  },
  {
   "cell_type": "code",
   "execution_count": 56,
   "id": "sapphire-airport",
   "metadata": {},
   "outputs": [],
   "source": [
    "for k, v in tab2.value_dict.items():\n",
    "    if not np.isclose(true_V_mat[k], v, atol=0.01):\n",
    "        print(f\"{k} is very different: Truth={true_V_mat[k]}, Pred={v}\")"
   ]
  },
  {
   "cell_type": "code",
   "execution_count": null,
   "id": "attempted-breakfast",
   "metadata": {},
   "outputs": [],
   "source": []
  },
  {
   "cell_type": "markdown",
   "id": "offshore-istanbul",
   "metadata": {},
   "source": [
    "## Problem 2 : Implementing TD($\\lambda$)"
   ]
  },
  {
   "cell_type": "code",
   "execution_count": 68,
   "id": "rocky-montgomery",
   "metadata": {},
   "outputs": [],
   "source": [
    "def generate_traces_continuous(num=100000):\n",
    "    np.random.seed(10)\n",
    "    return [generate_trace_continuous() for _ in range(num)]\n",
    "    \n",
    "def generate_trace_continuous(size=10):\n",
    "    trace_states, trace_reward = [], []\n",
    "    current_state = np.random.choice(10)\n",
    "    for i in range(10):\n",
    "        trace_states.append(current_state)\n",
    "        trace_reward.append(R[current_state] + np.random.randn()*0.25) # add noise to reward\n",
    "        current_state = np.random.choice(10, p=P[current_state])\n",
    "    return trace_states, trace_reward\n"
   ]
  },
  {
   "cell_type": "code",
   "execution_count": 87,
   "id": "abstract-blame",
   "metadata": {},
   "outputs": [],
   "source": [
    "tab3 = TabularApprox()\n",
    "lam = 0.5\n"
   ]
  },
  {
   "cell_type": "code",
   "execution_count": 88,
   "id": "legislative-munich",
   "metadata": {},
   "outputs": [],
   "source": [
    "for trace_states, trace_rewards in generate_traces_continuous(100000):\n",
    "    eligibility_trace = np.zeros(10)\n",
    "    for i in range(9):\n",
    "        s = trace_states[i]\n",
    "        r = trace_rewards[i]\n",
    "        \n",
    "        eligibility_trace = lam*gamma*eligibility_trace + np.eye(10)[s]\n",
    "        \n",
    "        val_s = tab3.evaluate([s])[0]\n",
    "        val_s_prime = tab3.evaluate([trace_states[i+1]])[0]\n",
    "        delta = (r + gamma*val_s_prime - val_s)\n",
    "        \n",
    "        tab3.update([[s, val_s + delta*eligibility_trace[s]]])\n",
    "        "
   ]
  },
  {
   "cell_type": "code",
   "execution_count": 93,
   "id": "unusual-membrane",
   "metadata": {},
   "outputs": [
    {
     "data": {
      "text/plain": [
       "[1.0110680002984294,\n",
       " 1.3908530921469693,\n",
       " 0.5425206593496347,\n",
       " 0.9078630076507419,\n",
       " 1.275313499560883,\n",
       " 1.1862447013462072,\n",
       " 1.0831510529133261,\n",
       " 0.49908588477255533,\n",
       " 0.8279592698900636,\n",
       " 1.0643666637421452]"
      ]
     },
     "execution_count": 93,
     "metadata": {},
     "output_type": "execute_result"
    }
   ],
   "source": [
    "[tab3.value_dict[k] for k in range(10)]"
   ]
  },
  {
   "cell_type": "code",
   "execution_count": 95,
   "id": "complete-impact",
   "metadata": {},
   "outputs": [
    {
     "data": {
      "text/plain": [
       "[1.0115037846645087,\n",
       " 1.3924395401123104,\n",
       " 0.5438812857303887,\n",
       " 0.9075070708573852,\n",
       " 1.2756881874566006,\n",
       " 1.187362961060823,\n",
       " 1.0849028838003623,\n",
       " 0.49944116883669903,\n",
       " 0.8314394588908189,\n",
       " 1.0662563611339073]"
      ]
     },
     "execution_count": 95,
     "metadata": {},
     "output_type": "execute_result"
    }
   ],
   "source": [
    "list(true_V)"
   ]
  },
  {
   "cell_type": "code",
   "execution_count": 96,
   "id": "acting-crime",
   "metadata": {},
   "outputs": [
    {
     "data": {
      "text/plain": [
       "array([-0.00043578, -0.00158645, -0.00136063,  0.00035594, -0.00037469,\n",
       "       -0.00111826, -0.00175183, -0.00035528, -0.00348019, -0.0018897 ])"
      ]
     },
     "execution_count": 96,
     "metadata": {},
     "output_type": "execute_result"
    }
   ],
   "source": [
    "np.array([tab3.value_dict[k] for k in range(10)]) - true_V"
   ]
  },
  {
   "cell_type": "code",
   "execution_count": null,
   "id": "proprietary-insulin",
   "metadata": {},
   "outputs": [],
   "source": []
  }
 ],
 "metadata": {
  "kernelspec": {
   "display_name": "Python 3",
   "language": "python",
   "name": "python3"
  },
  "language_info": {
   "codemirror_mode": {
    "name": "ipython",
    "version": 3
   },
   "file_extension": ".py",
   "mimetype": "text/x-python",
   "name": "python",
   "nbconvert_exporter": "python",
   "pygments_lexer": "ipython3",
   "version": "3.9.1"
  }
 },
 "nbformat": 4,
 "nbformat_minor": 5
}
