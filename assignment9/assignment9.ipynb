{
 "cells": [
  {
   "cell_type": "markdown",
   "metadata": {},
   "source": [
    "# Problem 1"
   ]
  },
  {
   "cell_type": "code",
   "execution_count": 10,
   "metadata": {},
   "outputs": [],
   "source": [
    "import sys\n",
    "sys.path.append(\"../\")\n"
   ]
  },
  {
   "cell_type": "code",
   "execution_count": 23,
   "metadata": {},
   "outputs": [],
   "source": [
    "from __future__ import annotations\n",
    "\n",
    "import numpy as np\n",
    "from rl.function_approx import FunctionApprox \n",
    "from dataclasses import dataclass\n",
    "from typing import TypeVar, Iterable, Tuple, Optional\n",
    "from collections import defaultdict\n",
    "\n",
    "X = TypeVar('X')\n",
    "\n",
    "from rl.chapter9.order_book import *\n",
    "from rl.markov_process import *\n",
    "from rl.distribution import Choose"
   ]
  },
  {
   "cell_type": "code",
   "execution_count": null,
   "metadata": {},
   "outputs": [],
   "source": []
  },
  {
   "cell_type": "code",
   "execution_count": 79,
   "metadata": {},
   "outputs": [],
   "source": [
    "class OrderBookMP(MarkovProcess):\n",
    "    def transition(self, \n",
    "                   state: OrderBook\n",
    "        ) -> Optional[Distribution[OrderBook]]:\n",
    "        \n",
    "        if state.descending_bids and state.descending_bids[0].shares > 30:\n",
    "            return None\n",
    "        \n",
    "        if state.ascending_asks and state.ascending_asks[0].shares > 30:\n",
    "            return None\n",
    "        \n",
    "        next_states = []\n",
    "        if np.random.rand() < 0.5:\n",
    "            for i in range(1, 6, 1):\n",
    "                next_state = state.buy_limit_order(\n",
    "                    price= state.bid_price(),\n",
    "                    shares= i\n",
    "                )\n",
    "                next_states.append(next_state)\n",
    "        else:\n",
    "            for i in range(1, 6, 1):\n",
    "                next_state = state.sell_limit_order(\n",
    "                    price= state.ask_price(),\n",
    "                    shares= i\n",
    "                )\n",
    "                next_states.append(next_state)\n",
    "\n",
    "        return Choose(next_states)\n"
   ]
  },
  {
   "cell_type": "code",
   "execution_count": 80,
   "metadata": {},
   "outputs": [],
   "source": [
    "\n",
    "bids: PriceSizePairs = [DollarsAndShares(\n",
    "        dollars=10,\n",
    "        shares=1.0)]\n",
    "asks: PriceSizePairs = [DollarsAndShares(\n",
    "        dollars=11,\n",
    "        shares=1.0)]\n",
    "\n",
    "ob0: OrderBook = OrderBook(descending_bids=bids, ascending_asks=asks)"
   ]
  },
  {
   "cell_type": "code",
   "execution_count": 81,
   "metadata": {},
   "outputs": [],
   "source": [
    "OrderBookMP_simulate = OrderBookMP().simulate(Choose([ob0]))"
   ]
  },
  {
   "cell_type": "code",
   "execution_count": 82,
   "metadata": {},
   "outputs": [
    {
     "data": {
      "text/plain": [
       "[OrderBook(descending_bids=[DollarsAndShares(dollars=10, shares=1.0)], ascending_asks=[DollarsAndShares(dollars=11, shares=1.0)]),\n",
       " OrderBook(descending_bids=[DollarsAndShares(dollars=10, shares=1.0)], ascending_asks=[DollarsAndShares(dollars=11, shares=5.0)]),\n",
       " OrderBook(descending_bids=[DollarsAndShares(dollars=10, shares=2.0)], ascending_asks=[DollarsAndShares(dollars=11, shares=5.0)]),\n",
       " OrderBook(descending_bids=[DollarsAndShares(dollars=10, shares=3.0)], ascending_asks=[DollarsAndShares(dollars=11, shares=5.0)]),\n",
       " OrderBook(descending_bids=[DollarsAndShares(dollars=10, shares=3.0)], ascending_asks=[DollarsAndShares(dollars=11, shares=10.0)]),\n",
       " OrderBook(descending_bids=[DollarsAndShares(dollars=10, shares=5.0)], ascending_asks=[DollarsAndShares(dollars=11, shares=10.0)]),\n",
       " OrderBook(descending_bids=[DollarsAndShares(dollars=10, shares=5.0)], ascending_asks=[DollarsAndShares(dollars=11, shares=14.0)]),\n",
       " OrderBook(descending_bids=[DollarsAndShares(dollars=10, shares=10.0)], ascending_asks=[DollarsAndShares(dollars=11, shares=14.0)]),\n",
       " OrderBook(descending_bids=[DollarsAndShares(dollars=10, shares=10.0)], ascending_asks=[DollarsAndShares(dollars=11, shares=19.0)]),\n",
       " OrderBook(descending_bids=[DollarsAndShares(dollars=10, shares=10.0)], ascending_asks=[DollarsAndShares(dollars=11, shares=20.0)]),\n",
       " OrderBook(descending_bids=[DollarsAndShares(dollars=10, shares=11.0)], ascending_asks=[DollarsAndShares(dollars=11, shares=20.0)]),\n",
       " OrderBook(descending_bids=[DollarsAndShares(dollars=10, shares=16.0)], ascending_asks=[DollarsAndShares(dollars=11, shares=20.0)]),\n",
       " OrderBook(descending_bids=[DollarsAndShares(dollars=10, shares=16.0)], ascending_asks=[DollarsAndShares(dollars=11, shares=21.0)]),\n",
       " OrderBook(descending_bids=[DollarsAndShares(dollars=10, shares=19.0)], ascending_asks=[DollarsAndShares(dollars=11, shares=21.0)]),\n",
       " OrderBook(descending_bids=[DollarsAndShares(dollars=10, shares=22.0)], ascending_asks=[DollarsAndShares(dollars=11, shares=21.0)]),\n",
       " OrderBook(descending_bids=[DollarsAndShares(dollars=10, shares=26.0)], ascending_asks=[DollarsAndShares(dollars=11, shares=21.0)]),\n",
       " OrderBook(descending_bids=[DollarsAndShares(dollars=10, shares=26.0)], ascending_asks=[DollarsAndShares(dollars=11, shares=23.0)]),\n",
       " OrderBook(descending_bids=[DollarsAndShares(dollars=10, shares=26.0)], ascending_asks=[DollarsAndShares(dollars=11, shares=28.0)]),\n",
       " OrderBook(descending_bids=[DollarsAndShares(dollars=10, shares=29.0)], ascending_asks=[DollarsAndShares(dollars=11, shares=28.0)]),\n",
       " OrderBook(descending_bids=[DollarsAndShares(dollars=10, shares=29.0)], ascending_asks=[DollarsAndShares(dollars=11, shares=32.0)])]"
      ]
     },
     "execution_count": 82,
     "metadata": {},
     "output_type": "execute_result"
    }
   ],
   "source": [
    "list(OrderBookMP_simulate)"
   ]
  },
  {
   "cell_type": "code",
   "execution_count": null,
   "metadata": {},
   "outputs": [],
   "source": []
  },
  {
   "cell_type": "code",
   "execution_count": null,
   "metadata": {},
   "outputs": [],
   "source": []
  }
 ],
 "metadata": {
  "kernelspec": {
   "display_name": "Python 3",
   "language": "python",
   "name": "python3"
  },
  "language_info": {
   "codemirror_mode": {
    "name": "ipython",
    "version": 3
   },
   "file_extension": ".py",
   "mimetype": "text/x-python",
   "name": "python",
   "nbconvert_exporter": "python",
   "pygments_lexer": "ipython3",
   "version": "3.7.6"
  }
 },
 "nbformat": 4,
 "nbformat_minor": 5
}
