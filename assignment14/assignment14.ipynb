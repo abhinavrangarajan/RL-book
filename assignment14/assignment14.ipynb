{
 "cells": [
  {
   "cell_type": "code",
   "execution_count": 1,
   "id": "center-storm",
   "metadata": {},
   "outputs": [],
   "source": [
    "import numpy as np"
   ]
  },
  {
   "cell_type": "markdown",
   "id": "discrete-butter",
   "metadata": {},
   "source": [
    "## Problems 2 : LSPI"
   ]
  },
  {
   "cell_type": "code",
   "execution_count": 10,
   "id": "tropical-bidding",
   "metadata": {},
   "outputs": [],
   "source": [
    "class LSPI:\n",
    "    \n",
    "    @staticmethod\n",
    "    def update(S: np.ndarray, S_prime: np.ndarray, reward: np.ndarray, gamma: float) -> np.ndarray:\n",
    "        '''\n",
    "            S: feature matrix for current state s\n",
    "            S_prime: feature matrix for next state s_prime\n",
    "            reward: vector fo rewards\n",
    "            gamma: fiscount factor\n",
    "        '''\n",
    "\n",
    "        return np.linalg.inv(S.T @ (S - gamma*S_prime)) @ (S.T @ reward)\n",
    "\n",
    "    \n",
    "    @staticmethod\n",
    "    def value(S: np.ndarray, weight: np.ndarray):\n",
    "        return (S @ w)\n",
    "    \n",
    "    \n",
    "    @staticmethod\n",
    "    def select_action(*args):\n",
    "        for arg in args:\n",
    "            assert type(arg) == np.ndarray\n",
    "        state_action_values = np.concatenate([arg.reshape(-1,1) for arg in args], axis=1)\n",
    "        return np.argmax(state_action_values, axis=1)\n",
    "    "
   ]
  },
  {
   "cell_type": "markdown",
   "id": "tropical-criterion",
   "metadata": {},
   "source": [
    "## Problem 3 : LSPI w/ Customization for American Vanilla Put Options"
   ]
  },
  {
   "cell_type": "code",
   "execution_count": 17,
   "id": "tired-minute",
   "metadata": {},
   "outputs": [],
   "source": [
    "class AmericanVanillaPutOptions:\n",
    "    \n",
    "    @staticmethod\n",
    "    def intrinsic_value(spot: np.ndarray, strike: np.ndarray):\n",
    "        assert spot.squeeze().shape == spot.shape\n",
    "        assert strike.squeeze().shape == strike.shape\n",
    "        \n",
    "        return (strike - spot).clip(lower=0.0)\n",
    "    \n",
    "    @staticmethod\n",
    "    def feature_matrix(spot: np.ndarray, \n",
    "                       strike: np.ndarray, \n",
    "                       sigma: np.ndarray, \n",
    "                       interest_rate: np.ndarray, \n",
    "                       time_to_expiration: np.ndarray):\n",
    "        \n",
    "        for arr in [spot, strike, sigma, interest_rate, time_to_expiration]:\n",
    "            assert arr.squeeze().shape == arr.shape\n",
    "        \n",
    "        # MONEYNESS\n",
    "        moneyness = spot / strike\n",
    "        feature_1 = np.log(moneyness)\n",
    "        \n",
    "        feature_set = [feature_1]\n",
    "        \n",
    "        return np.concatenate([feat.reshape(-1, 1) for feat in feature_set], axis=1)\n",
    "    \n",
    "    "
   ]
  },
  {
   "cell_type": "code",
   "execution_count": null,
   "id": "twelve-arrangement",
   "metadata": {},
   "outputs": [],
   "source": []
  },
  {
   "cell_type": "code",
   "execution_count": null,
   "id": "described-treasury",
   "metadata": {},
   "outputs": [],
   "source": []
  }
 ],
 "metadata": {
  "kernelspec": {
   "display_name": "Python 3",
   "language": "python",
   "name": "python3"
  },
  "language_info": {
   "codemirror_mode": {
    "name": "ipython",
    "version": 3
   },
   "file_extension": ".py",
   "mimetype": "text/x-python",
   "name": "python",
   "nbconvert_exporter": "python",
   "pygments_lexer": "ipython3",
   "version": "3.9.1"
  }
 },
 "nbformat": 4,
 "nbformat_minor": 5
}
