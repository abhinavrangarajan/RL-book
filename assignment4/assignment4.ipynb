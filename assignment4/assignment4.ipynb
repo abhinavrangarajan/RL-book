{
 "cells": [
  {
   "cell_type": "code",
   "execution_count": 1,
   "metadata": {},
   "outputs": [],
   "source": [
    "import sys\n",
    "sys.path.append(\"../rl/\")"
   ]
  },
  {
   "cell_type": "markdown",
   "metadata": {},
   "source": [
    "## Problem 1\n",
    "\n",
    "### Part (A) : Manually Calculate \n",
    "\n",
    "$$\n",
    "  V_{0} = \\begin{bmatrix} 10.0 \\\\ 1.0 \\\\ 0.0 \\end{bmatrix}\n",
    "$$\n",
    "\n",
    "$$\n",
    "    q_{1}(s_{1}, a_{1}) = 10.6 \\\\\n",
    "    q_{1}(s_{1}, a_{2}) = 11.2 \\\\\n",
    "    \\pi_{1}(s1) = a_{2} \\\\\n",
    "    v_{1}(s1) = 11.2\n",
    "$$\n",
    "  \n",
    "$$\n",
    "    q_{1}(s_{2}, a_{1}) = 4.3 \\\\\n",
    "    q_{1}(s_{2}, a_{2}) = 4.3 \\\\\n",
    "    \\pi_{1}(s2) = a_{1}\\ \\text{or}\\ a_{2} \\\\\n",
    "    v_{1}(s2) = 4.3\n",
    "$$\n",
    "\n",
    "$$\n",
    "  V_{1} = \\begin{bmatrix} 11.2 \\\\ 4.3 \\\\ 0.0 \\end{bmatrix} \\\\\n",
    "  \\pi_{1} = \\begin{bmatrix} a_{2} \\\\ a_{1}\\ \\text{or}\\ a_{2}  \\end{bmatrix}\n",
    "$$\n",
    "  \n",
    "$$\n",
    "    q_{2}(s_{1}, a_{1}) = 12.82 \\\\\n",
    "    q_{2}(s_{1}, a_{2}) = 11.98 \\\\\n",
    "    \\pi_{2}(s1) = a_{1} \\\\\n",
    "    v_{2}(s1) = 12.82\n",
    "$$\n",
    "  \n",
    "$$\n",
    "    q_{2}(s_{2}, a_{1}) = 5.65 \\\\\n",
    "    q_{2}(s_{2}, a_{2}) = 5.89 \\\\\n",
    "    \\pi_{2}(s2) = a_{2} \\\\\n",
    "    v_{2}(s2) = 5.89\n",
    "$$\n",
    "  \n",
    "$$\n",
    "  V_{2} = \\begin{bmatrix} 12.82 \\\\ 5.89 \\\\ 0.0 \\end{bmatrix} \\\\\n",
    "  \\pi_{2} = \\begin{bmatrix} a_{1} \\\\ a_{2} \\end{bmatrix}\n",
    "$$\n",
    "\n",
    "  \n",
    "### Part (B) : Policy remains the same\n",
    "  \n",
    "__NOTE:__ The value function for $s_{3}$ will remain 0.0.  \n",
    "  \n",
    "__For State $s_{1}$:__ The action $a_{1}$ puts more weight on $s_{1}$ and $s_{2}$ than action $a_{2}$. Since the value function is non-decreasing, the optimal action for $s_{1}$ is $a_{1}$.  \n",
    "\n",
    "__For State $s_{2}$:__ Similar to the reasoning above ^, action $a_{2}$ for state $s_{2}$ assigns equal or more weight to states $s_{1}$ and $s_{2}$. So we expect $a_{2}$ to be the optimal action for state $s_{2}$.\n",
    "\n"
   ]
  },
  {
   "cell_type": "code",
   "execution_count": null,
   "metadata": {},
   "outputs": [],
   "source": []
  },
  {
   "cell_type": "markdown",
   "metadata": {},
   "source": [
    "## Problem 2"
   ]
  },
  {
   "cell_type": "code",
   "execution_count": 6,
   "metadata": {},
   "outputs": [
    {
     "name": "stdout",
     "output_type": "stream",
     "text": [
      "The autoreload extension is already loaded. To reload it, use:\n",
      "  %reload_ext autoreload\n"
     ]
    }
   ],
   "source": [
    "import sys\n",
    "sys.path.append(\"../rl/\")\n",
    "\n",
    "from markov_decision_process import FiniteMarkovDecisionProcess, FinitePolicy\n",
    "from distribution import Categorical, Choose, Constant\n",
    "from collections import defaultdict\n",
    "import numpy as np\n",
    "import seaborn as sns\n",
    "from rl.dynamic_programming import (policy_iteration, value_iteration)\n",
    "\n",
    "%load_ext autoreload\n",
    "%autoreload 2\n"
   ]
  },
  {
   "cell_type": "code",
   "execution_count": 5,
   "metadata": {},
   "outputs": [],
   "source": [
    "def get_frog_MDP(N=10):\n",
    "    action_mapping = {}\n",
    "\n",
    "    action_mapping[0], action_mapping[N] = None, None\n",
    "    \n",
    "    reward_func = lambda s: 1.0*(s==N) #- 10.0*(s==0)\n",
    "    \n",
    "    for i in range(1, N, 1):\n",
    "        action_mapping[i] = {\n",
    "            '0': Categorical({ (i-1, reward_func(i-1)):(i/N), (i+1, reward_func(i+1)):(1-(i/N)) }),\n",
    "            '1': Categorical({ (j, reward_func(j)): (1/N) for j in range(0, N+1, 1) if j != i })\n",
    "        }\n",
    "    \n",
    "    return FiniteMarkovDecisionProcess(action_mapping)\n",
    "    "
   ]
  },
  {
   "cell_type": "code",
   "execution_count": 40,
   "metadata": {},
   "outputs": [],
   "source": [
    "# N=100"
   ]
  },
  {
   "cell_type": "code",
   "execution_count": 43,
   "metadata": {},
   "outputs": [],
   "source": [
    "# Value Iteration\n",
    "def VI_iter(N):\n",
    "    v_vi_stable = None\n",
    "    for (i, v_vi) in enumerate(value_iteration(mdp=get_frog_MDP(N=N), gamma=0.99)):\n",
    "        if v_vi_stable is not None:\n",
    "            if v_vi_stable == v_vi:\n",
    "#                 print(f\"finished Value Iteration in iteration {i}\")\n",
    "#                 break\n",
    "                return i\n",
    "        v_vi_stable = v_vi "
   ]
  },
  {
   "cell_type": "code",
   "execution_count": 44,
   "metadata": {},
   "outputs": [],
   "source": [
    "# Policy Iteration\n",
    "def PI_iter(N):\n",
    "    v_pl_stable = None\n",
    "    for (i, v_pl) in enumerate(policy_iteration(mdp=get_frog_MDP(N=N), gamma=0.99)):\n",
    "        if v_pl_stable is not None:\n",
    "            if v_pl_stable[0] == v_pl[0]:\n",
    "#                 print(f\"finished Policy Iteration in iteration {i}\")\n",
    "#                 break\n",
    "                return i\n",
    "        v_pl_stable = v_pl "
   ]
  },
  {
   "cell_type": "code",
   "execution_count": 46,
   "metadata": {},
   "outputs": [
    {
     "data": {
      "text/plain": [
       "array([1])"
      ]
     },
     "execution_count": 46,
     "metadata": {},
     "output_type": "execute_result"
    }
   ],
   "source": [
    "Ns"
   ]
  },
  {
   "cell_type": "code",
   "execution_count": 51,
   "metadata": {},
   "outputs": [],
   "source": [
    "Ns = np.arange(2, 103, 5)\n",
    "\n",
    "VI_num_iters = [VI_iter(n) for n in Ns]\n",
    "PI_num_iters = [PI_iter(n) for n in Ns]\n"
   ]
  },
  {
   "cell_type": "code",
   "execution_count": 54,
   "metadata": {},
   "outputs": [
    {
     "data": {
      "text/plain": [
       "<AxesSubplot:>"
      ]
     },
     "execution_count": 54,
     "metadata": {},
     "output_type": "execute_result"
    },
    {
     "data": {
      "image/png": "[encoded data removed]",
      "text/plain": [
       "<Figure size 432x288 with 1 Axes>"
      ]
     },
     "metadata": {
      "needs_background": "light"
     },
     "output_type": "display_data"
    }
   ],
   "source": [
    "sns.lineplot(x=Ns, y=VI_num_iters, label=\"Value Iteration\")\n",
    "sns.lineplot(x=Ns, y=PI_num_iters, label=\"Policy Iteration\")"
   ]
  },
  {
   "cell_type": "code",
   "execution_count": null,
   "metadata": {},
   "outputs": [],
   "source": []
  },
  {
   "cell_type": "markdown",
   "metadata": {},
   "source": [
    "## Problem 3\n",
    "\n",
    "The state is the tuple of (current wage, _{}$"
   ]
  },
  {
   "cell_type": "code",
   "execution_count": null,
   "metadata": {},
   "outputs": [],
   "source": []
  },
  {
   "cell_type": "code",
   "execution_count": 64,
   "metadata": {},
   "outputs": [
    {
     "data": {
      "text/plain": [
       "<AxesSubplot:>"
      ]
     },
     "execution_count": 64,
     "metadata": {},
     "output_type": "execute_result"
    },
    {
     "data": {
      "image/png": "[encoded data removed]",
      "text/plain": [
       "<Figure size 432x288 with 1 Axes>"
      ]
     },
     "metadata": {
      "needs_background": "light"
     },
     "output_type": "display_data"
    }
   ],
   "source": [
    "X = np.arange(0, 1.0, 0.011)\n",
    "alpha = 1\n",
    "\n",
    "util = X - alpha * X * X * 0.5\n",
    "\n",
    "sns.lineplot(x=X, y=util)"
   ]
  },
  {
   "cell_type": "code",
   "execution_count": null,
   "metadata": {},
   "outputs": [],
   "source": []
  }
 ],
 "metadata": {
  "kernelspec": {
   "display_name": "Python 3",
   "language": "python",
   "name": "python3"
  },
  "language_info": {
   "codemirror_mode": {
    "name": "ipython",
    "version": 3
   },
   "file_extension": ".py",
   "mimetype": "text/x-python",
   "name": "python",
   "nbconvert_exporter": "python",
   "pygments_lexer": "ipython3",
   "version": "3.9.1"
  }
 },
 "nbformat": 4,
 "nbformat_minor": 4
}
