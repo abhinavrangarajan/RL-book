{
 "cells": [
  {
   "cell_type": "code",
   "execution_count": 74,
   "metadata": {},
   "outputs": [],
   "source": [
    "from __future__ import annotations\n",
    "\n",
    "import numpy as np\n",
    "from rl.function_approx import FunctionApprox \n",
    "from dataclasses import dataclass\n",
    "from typing import TypeVar, Iterable, Tuple, Optional\n",
    "from collections import defaultdict\n",
    "\n",
    "X = TypeVar('X')\n",
    "\n",
    "import numpy as np\n",
    "import sys\n",
    "sys.path.append(\"../\")\n",
    "sys.path.append(\"/Users/abhinavrangarajan/opt/anaconda3/lib/python3.7/site-packages/\")\n",
    "from rl.chapter3.simple_inventory_mdp_cap import *\n",
    "\n",
    "from pprint import pprint\n"
   ]
  },
  {
   "cell_type": "markdown",
   "metadata": {},
   "source": [
    "# Problem 2 : Implement Tabular SARSA, Experiment with SimpleInventoryMDPCap"
   ]
  },
  {
   "cell_type": "code",
   "execution_count": 7,
   "metadata": {},
   "outputs": [],
   "source": [
    "\n",
    "user_capacity = 2\n",
    "user_poisson_lambda = 1.0\n",
    "user_holding_cost = 1.0\n",
    "user_stockout_cost = 10.0\n",
    "\n",
    "user_gamma = 0.9\n",
    "\n",
    "si_mdp: FiniteMarkovDecisionProcess[InventoryState, int] =\\\n",
    "    SimpleInventoryMDPCap(\n",
    "        capacity=user_capacity,\n",
    "        poisson_lambda=user_poisson_lambda,\n",
    "        holding_cost=user_holding_cost,\n",
    "        stockout_cost=user_stockout_cost\n",
    "    )"
   ]
  },
  {
   "cell_type": "code",
   "execution_count": 68,
   "metadata": {},
   "outputs": [],
   "source": [
    "non_term_size = len(si_mdp.non_terminal_states)\n",
    "eps = 0.5\n",
    "tab = TabularApprox()\n",
    "gamma = 0.9"
   ]
  },
  {
   "cell_type": "code",
   "execution_count": 69,
   "metadata": {},
   "outputs": [],
   "source": [
    "for _ in range(1000):\n",
    "    s = si_mdp.non_terminal_states[np.random.choice(non_term_size)]\n",
    "    available_actions = list(si_mdp.actions(s))\n",
    "    if np.random.rand() < eps:\n",
    "        action_idx = np.random.choice(len(available_actions))\n",
    "    else:\n",
    "        action_idx = np.argmax([tab.value((s, a)) for a in available_actions])\n",
    "    a = available_actions[action_idx]\n",
    "    s_, r = si_mdp.step(s, a).sample()\n",
    "    \n",
    "    available_actions_ = list(si_mdp.actions(s_))\n",
    "    action_idx_ = np.argmax([tab.value((s_, a_)) for a_ in available_actions_])\n",
    "    a_ = available_actions_[action_idx_]\n",
    "    \n",
    "    tab.update([( (s, a), r + gamma*tab.value((s_, a_)) )])\n"
   ]
  },
  {
   "cell_type": "code",
   "execution_count": 72,
   "metadata": {},
   "outputs": [
    {
     "name": "stdout",
     "output_type": "stream",
     "text": [
      "State (InventoryState(on_hand=1, on_order=0), 0) => Value -13.427191179632626\n",
      "State (InventoryState(on_hand=1, on_order=0), 1) => Value -11.590707772394008\n",
      "State (InventoryState(on_hand=0, on_order=2), 0) => Value -10.1707106900751\n",
      "State (InventoryState(on_hand=0, on_order=1), 0) => Value -14.381099237678958\n",
      "State (InventoryState(on_hand=0, on_order=1), 1) => Value -10.943091978166041\n",
      "State (InventoryState(on_hand=2, on_order=0), 0) => Value -12.302556168350002\n",
      "State (InventoryState(on_hand=1, on_order=1), 0) => Value -11.065536401503138\n",
      "State (InventoryState(on_hand=0, on_order=0), 0) => Value -23.62499752310123\n",
      "State (InventoryState(on_hand=0, on_order=0), 1) => Value -18.07335805305571\n",
      "State (InventoryState(on_hand=0, on_order=0), 2) => Value -17.487599511192123\n"
     ]
    }
   ],
   "source": [
    "for s, val in tab.value_dict.items():\n",
    "    print(f\"State {s} => Value {val}\")"
   ]
  },
  {
   "cell_type": "code",
   "execution_count": null,
   "metadata": {},
   "outputs": [],
   "source": []
  },
  {
   "cell_type": "code",
   "execution_count": null,
   "metadata": {},
   "outputs": [],
   "source": []
  },
  {
   "cell_type": "code",
   "execution_count": 49,
   "metadata": {},
   "outputs": [],
   "source": [
    "class TabularApprox(FunctionApprox):\n",
    "    def __init__(self):\n",
    "        self.count_dict = defaultdict(int)\n",
    "        self.value_dict = defaultdict(int)\n",
    "    \n",
    "    def value(self, s):\n",
    "        return self.value_dict[s]\n",
    "    \n",
    "    def evaluate(self, x_values_seq: Iterable[X]) -> np.ndarray:\n",
    "        return np.array([self.value_dict[x] for x in x_values_seq])\n",
    "    \n",
    "    def representational_gradient(self, x_value: X) -> TabularApprox[X]:\n",
    "        pass\n",
    "    \n",
    "    def solve(\n",
    "        self,\n",
    "        xy_vals_seq: Iterable[Tuple[X, float]],\n",
    "        error_tolerance: Optional[float] = None\n",
    "    ) -> TabularApprox[X]:\n",
    "        tmp = TabularApprox()\n",
    "        tmp.update(xy_vals_seq=xy_vals_seq)\n",
    "        return tmp\n",
    "    \n",
    "    def update(\n",
    "        self,\n",
    "        xy_vals_seq: Iterable[Tuple[X, float]]\n",
    "    ) -> TabularApprox:\n",
    "        for (x,y) in xy_vals_seq:\n",
    "            self.count_dict[x] += 1\n",
    "            self.value_dict[x] += (1 / self.count_dict[x]) * (y - self.value_dict[x])\n",
    "        return self\n",
    "    \n",
    "    def within(self, other: FunctionApprox[X], tolerance: float) -> bool:\n",
    "        if isinstance(other, TabularApprox):\n",
    "            return np.all(\n",
    "                (k in other) and (other.value_dict[k] == self.value_dict[k])\n",
    "                for k in self.value_dict.keys()\n",
    "            )\n",
    "\n",
    "        return False"
   ]
  },
  {
   "cell_type": "code",
   "execution_count": null,
   "metadata": {},
   "outputs": [],
   "source": []
  },
  {
   "cell_type": "code",
   "execution_count": null,
   "metadata": {},
   "outputs": [],
   "source": []
  }
 ],
 "metadata": {
  "kernelspec": {
   "display_name": "Python 3",
   "language": "python",
   "name": "python3"
  },
  "language_info": {
   "codemirror_mode": {
    "name": "ipython",
    "version": 3
   },
   "file_extension": ".py",
   "mimetype": "text/x-python",
   "name": "python",
   "nbconvert_exporter": "python",
   "pygments_lexer": "ipython3",
   "version": "3.7.6"
  }
 },
 "nbformat": 4,
 "nbformat_minor": 5
}
