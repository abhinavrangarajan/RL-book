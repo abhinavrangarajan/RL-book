{
 "cells": [
  {
   "cell_type": "code",
   "execution_count": 1,
   "id": "collected-basketball",
   "metadata": {},
   "outputs": [],
   "source": [
    "import sys\n",
    "sys.path.append(\"../\")"
   ]
  },
  {
   "cell_type": "code",
   "execution_count": 6,
   "id": "sunset-remains",
   "metadata": {},
   "outputs": [],
   "source": [
    "import numpy as np\n",
    "from rl.function_approx import FunctionApprox \n",
    "from typing import TypeVar\n",
    "from dataclasses import dataclass, replace\n",
    "from __future__ import annotations\n",
    "from scipy.interpolate import BSpline, splrep\n"
   ]
  },
  {
   "cell_type": "code",
   "execution_count": 7,
   "id": "organic-polls",
   "metadata": {},
   "outputs": [],
   "source": [
    "X = TypeVar('X')\n",
    "\n",
    "@dataclass(frozen=True)\n",
    "class UnivariateBSpline(FunctionApprox[X]):\n",
    "    \n",
    "    knots: np.ndarray\n",
    "    coefficients: np.ndarray\n",
    "    degree: int\n",
    "    \n",
    "    def evaluate(self, x_values_seq: Iterable[X]) -> np.ndarray:\n",
    "        # can definitely optimize this further!!! O(n^2)\n",
    "        y_values = []\n",
    "        for x in x_values_seq:\n",
    "            for i, (x0, x1) in enumerate(zip(self.knots[:-1], self.knots[1:])):\n",
    "                if (x0 <= x) and (x <= x1):\n",
    "                    break\n",
    "            y = self._evaluate_x(x, self.coefficients[i])\n",
    "            y_values.append(y)\n",
    "        return np.array(y_values)\n",
    "    \n",
    "    def _evaluate_x(self, x, coefficients):\n",
    "        return BSpline(self.knots, self.coefficients, self.degree)(x)\n",
    "                \n",
    "    def representational_gradient(self, x_value: X) -> UnivariateBSpline[X]:\n",
    "        pass\n",
    "    \n",
    "    def solve(\n",
    "        self,\n",
    "        xy_vals_seq: Iterable[Tuple[X, float]],\n",
    "        error_tolerance: Optional[float] = None\n",
    "    ) -> UnivariateBSpline[X]:\n",
    "        spl = splrep(x, y)\n",
    "        return UnivariateBSpline(knots=spl[0], coefficients=spl[1], degree=spl[2])\n",
    "    \n",
    "    def update(\n",
    "        self,\n",
    "        xy_vals_seq: Iterable[Tuple[X, float]]\n",
    "    ) -> UnivariateBSpline[X]:\n",
    "        new_bspline = self.solve(xy_vals_seq)\n",
    "        return UnivariateBSpline( \n",
    "            knots=new_bspline.knots, \n",
    "            coefficients=new_bspline.coefficients, \n",
    "            degree=new_bspline.degree\n",
    "        )\n",
    "    \n",
    "    def within(self, other: FunctionApprox[X], tolerance: float) -> bool:\n",
    "        if isinstance(other, UnivariateBSpline):\n",
    "            return (\n",
    "                np.all(np.abs(self.knots - other.knots) <= tolerance).item() \n",
    "                and \n",
    "                np.all(np.abs(self.coeffs - other.coeffs) <= tolerance).item()\n",
    "            )\n",
    "\n",
    "        return False"
   ]
  },
  {
   "cell_type": "markdown",
   "id": "featured-restaurant",
   "metadata": {},
   "source": [
    "## Compare against Sklearn"
   ]
  },
  {
   "cell_type": "code",
   "execution_count": 8,
   "id": "standard-metadata",
   "metadata": {},
   "outputs": [],
   "source": [
    "import matplotlib.pyplot as plt\n",
    "from scipy.interpolate import splev, splrep\n",
    "from scipy.interpolate import UnivariateSpline\n",
    "import seaborn as sns\n"
   ]
  },
  {
   "cell_type": "code",
   "execution_count": 9,
   "id": "geographic-extension",
   "metadata": {},
   "outputs": [],
   "source": [
    "x = np.linspace(0, 10, 10)\n",
    "y = np.sin(x)\n",
    "\n",
    "test = UnivariateBSpline(knots=None, coefficients=None, degree=None)\n",
    "test = test.update(zip(x, y))"
   ]
  },
  {
   "cell_type": "code",
   "execution_count": 10,
   "id": "sticky-reasoning",
   "metadata": {},
   "outputs": [
    {
     "data": {
      "text/plain": [
       "<AxesSubplot:>"
      ]
     },
     "execution_count": 10,
     "metadata": {},
     "output_type": "execute_result"
    },
    {
     "data": {
      "image/png": "[encoded data removed]",
      "text/plain": [
       "<Figure size 432x288 with 1 Axes>"
      ]
     },
     "metadata": {
      "needs_background": "light"
     },
     "output_type": "display_data"
    }
   ],
   "source": [
    "sns.lineplot(x=x, y=y, label='truth')\n",
    "x_prime = np.linspace(0, 10, 100)\n",
    "\n",
    "sns.lineplot(x=x_prime, y=test.evaluate(x_prime), label=\"BSpline Function Approx\")"
   ]
  },
  {
   "cell_type": "code",
   "execution_count": null,
   "id": "criminal-coalition",
   "metadata": {},
   "outputs": [],
   "source": []
  }
 ],
 "metadata": {
  "kernelspec": {
   "display_name": "Python 3",
   "language": "python",
   "name": "python3"
  },
  "language_info": {
   "codemirror_mode": {
    "name": "ipython",
    "version": 3
   },
   "file_extension": ".py",
   "mimetype": "text/x-python",
   "name": "python",
   "nbconvert_exporter": "python",
   "pygments_lexer": "ipython3",
   "version": "3.9.1"
  }
 },
 "nbformat": 4,
 "nbformat_minor": 5
}
